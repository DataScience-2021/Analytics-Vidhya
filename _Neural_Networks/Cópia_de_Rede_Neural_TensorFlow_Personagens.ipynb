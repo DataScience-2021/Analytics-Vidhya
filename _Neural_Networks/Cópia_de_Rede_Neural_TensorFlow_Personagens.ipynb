{
 "cells": [
  {
   "cell_type": "markdown",
   "metadata": {
    "colab_type": "text",
    "id": "view-in-github"
   },
   "source": [
    "<a href=\"https://colab.research.google.com/github/viannaandreBR/My-Data-Science-Journey/blob/main/C%C3%B3pia_de_Rede_Neural_TensorFlow_Personagens.ipynb\" target=\"_parent\"><img src=\"https://colab.research.google.com/assets/colab-badge.svg\" alt=\"Open In Colab\"/></a>"
   ]
  },
  {
   "cell_type": "markdown",
   "metadata": {
    "id": "Sd_h453YseEx"
   },
   "source": [
    "# Rede Neural com TensorFlow - Personagens"
   ]
  },
  {
   "cell_type": "markdown",
   "metadata": {
    "id": "nA9a2AFmsiFJ"
   },
   "source": [
    "## Importação das bibliotecas"
   ]
  },
  {
   "cell_type": "code",
   "execution_count": null,
   "metadata": {},
   "outputs": [],
   "source": [
    "!pip3 install seaborn"
   ]
  },
  {
   "cell_type": "code",
   "execution_count": 42,
   "metadata": {
    "colab": {
     "base_uri": "https://localhost:8080/",
     "height": 35
    },
    "id": "PXXSgPpi1gwj",
    "outputId": "7cfdc341-f2e4-468b-a51e-3430f00d6d8b"
   },
   "outputs": [
    {
     "data": {
      "text/plain": [
       "'2.4.1'"
      ]
     },
     "execution_count": 42,
     "metadata": {},
     "output_type": "execute_result"
    }
   ],
   "source": [
    "import tensorflow as tf\n",
    "import pandas as pd\n",
    "import numpy as np\n",
    "import seaborn as sns\n",
    "import matplotlib.pyplot as plt\n",
    "tf.__version__"
   ]
  },
  {
   "cell_type": "markdown",
   "metadata": {
    "id": "kI34B4iXt6tF"
   },
   "source": [
    "## Carregamento da base de dados"
   ]
  },
  {
   "cell_type": "code",
   "execution_count": 43,
   "metadata": {
    "id": "wHD56A292Qh-"
   },
   "outputs": [],
   "source": [
    "dataset = pd.read_csv('personagens.csv')"
   ]
  },
  {
   "cell_type": "code",
   "execution_count": 44,
   "metadata": {
    "colab": {
     "base_uri": "https://localhost:8080/"
    },
    "id": "mUeW7FCd2l6Q",
    "outputId": "f1a81fb2-b33c-410d-bc6c-0765b5f64a5e"
   },
   "outputs": [
    {
     "data": {
      "text/plain": [
       "(293, 7)"
      ]
     },
     "execution_count": 44,
     "metadata": {},
     "output_type": "execute_result"
    }
   ],
   "source": [
    "dataset.shape"
   ]
  },
  {
   "cell_type": "code",
   "execution_count": 45,
   "metadata": {
    "colab": {
     "base_uri": "https://localhost:8080/",
     "height": 204
    },
    "id": "Rv-4fgXx2uct",
    "outputId": "2600b61c-5d41-4af3-b14c-a276c2870bc4"
   },
   "outputs": [
    {
     "data": {
      "text/html": [
       "<div>\n",
       "<style scoped>\n",
       "    .dataframe tbody tr th:only-of-type {\n",
       "        vertical-align: middle;\n",
       "    }\n",
       "\n",
       "    .dataframe tbody tr th {\n",
       "        vertical-align: top;\n",
       "    }\n",
       "\n",
       "    .dataframe thead th {\n",
       "        text-align: right;\n",
       "    }\n",
       "</style>\n",
       "<table border=\"1\" class=\"dataframe\">\n",
       "  <thead>\n",
       "    <tr style=\"text-align: right;\">\n",
       "      <th></th>\n",
       "      <th>laranja_camisa_bart</th>\n",
       "      <th>azul_calcao_bart</th>\n",
       "      <th>azul_sapato_bart</th>\n",
       "      <th>marrom_boca_homer</th>\n",
       "      <th>azul_calca_homer</th>\n",
       "      <th>cinza_sapato_homer</th>\n",
       "      <th>classe</th>\n",
       "    </tr>\n",
       "  </thead>\n",
       "  <tbody>\n",
       "    <tr>\n",
       "      <th>0</th>\n",
       "      <td>6.886102</td>\n",
       "      <td>3.495204</td>\n",
       "      <td>1.484984</td>\n",
       "      <td>0.000000</td>\n",
       "      <td>0.0</td>\n",
       "      <td>0.062954</td>\n",
       "      <td>Bart</td>\n",
       "    </tr>\n",
       "    <tr>\n",
       "      <th>1</th>\n",
       "      <td>5.004901</td>\n",
       "      <td>3.183889</td>\n",
       "      <td>1.000142</td>\n",
       "      <td>0.000000</td>\n",
       "      <td>0.0</td>\n",
       "      <td>0.033024</td>\n",
       "      <td>Bart</td>\n",
       "    </tr>\n",
       "    <tr>\n",
       "      <th>2</th>\n",
       "      <td>5.264620</td>\n",
       "      <td>5.029683</td>\n",
       "      <td>0.283567</td>\n",
       "      <td>0.000000</td>\n",
       "      <td>0.0</td>\n",
       "      <td>0.151573</td>\n",
       "      <td>Bart</td>\n",
       "    </tr>\n",
       "    <tr>\n",
       "      <th>3</th>\n",
       "      <td>0.000000</td>\n",
       "      <td>0.000000</td>\n",
       "      <td>0.000000</td>\n",
       "      <td>0.480168</td>\n",
       "      <td>0.0</td>\n",
       "      <td>0.021164</td>\n",
       "      <td>Bart</td>\n",
       "    </tr>\n",
       "    <tr>\n",
       "      <th>4</th>\n",
       "      <td>8.978929</td>\n",
       "      <td>3.459119</td>\n",
       "      <td>0.000000</td>\n",
       "      <td>0.000000</td>\n",
       "      <td>0.0</td>\n",
       "      <td>0.011593</td>\n",
       "      <td>Bart</td>\n",
       "    </tr>\n",
       "  </tbody>\n",
       "</table>\n",
       "</div>"
      ],
      "text/plain": [
       "   laranja_camisa_bart  azul_calcao_bart  azul_sapato_bart  marrom_boca_homer  \\\n",
       "0             6.886102          3.495204          1.484984           0.000000   \n",
       "1             5.004901          3.183889          1.000142           0.000000   \n",
       "2             5.264620          5.029683          0.283567           0.000000   \n",
       "3             0.000000          0.000000          0.000000           0.480168   \n",
       "4             8.978929          3.459119          0.000000           0.000000   \n",
       "\n",
       "   azul_calca_homer  cinza_sapato_homer classe  \n",
       "0               0.0            0.062954   Bart  \n",
       "1               0.0            0.033024   Bart  \n",
       "2               0.0            0.151573   Bart  \n",
       "3               0.0            0.021164   Bart  \n",
       "4               0.0            0.011593   Bart  "
      ]
     },
     "execution_count": 45,
     "metadata": {},
     "output_type": "execute_result"
    }
   ],
   "source": [
    "dataset.head()"
   ]
  },
  {
   "cell_type": "code",
   "execution_count": 46,
   "metadata": {
    "colab": {
     "base_uri": "https://localhost:8080/",
     "height": 204
    },
    "id": "_osbJtc12z7C",
    "outputId": "41f4a7a6-20f0-4e86-e4d9-c6e24cde1406"
   },
   "outputs": [
    {
     "data": {
      "text/html": [
       "<div>\n",
       "<style scoped>\n",
       "    .dataframe tbody tr th:only-of-type {\n",
       "        vertical-align: middle;\n",
       "    }\n",
       "\n",
       "    .dataframe tbody tr th {\n",
       "        vertical-align: top;\n",
       "    }\n",
       "\n",
       "    .dataframe thead th {\n",
       "        text-align: right;\n",
       "    }\n",
       "</style>\n",
       "<table border=\"1\" class=\"dataframe\">\n",
       "  <thead>\n",
       "    <tr style=\"text-align: right;\">\n",
       "      <th></th>\n",
       "      <th>laranja_camisa_bart</th>\n",
       "      <th>azul_calcao_bart</th>\n",
       "      <th>azul_sapato_bart</th>\n",
       "      <th>marrom_boca_homer</th>\n",
       "      <th>azul_calca_homer</th>\n",
       "      <th>cinza_sapato_homer</th>\n",
       "      <th>classe</th>\n",
       "    </tr>\n",
       "  </thead>\n",
       "  <tbody>\n",
       "    <tr>\n",
       "      <th>288</th>\n",
       "      <td>0.0</td>\n",
       "      <td>0.0</td>\n",
       "      <td>0.0</td>\n",
       "      <td>0.000000</td>\n",
       "      <td>6.485412</td>\n",
       "      <td>0.093921</td>\n",
       "      <td>Homer</td>\n",
       "    </tr>\n",
       "    <tr>\n",
       "      <th>289</th>\n",
       "      <td>0.0</td>\n",
       "      <td>0.0</td>\n",
       "      <td>0.0</td>\n",
       "      <td>0.000000</td>\n",
       "      <td>0.000000</td>\n",
       "      <td>0.042194</td>\n",
       "      <td>Homer</td>\n",
       "    </tr>\n",
       "    <tr>\n",
       "      <th>290</th>\n",
       "      <td>0.0</td>\n",
       "      <td>0.0</td>\n",
       "      <td>0.0</td>\n",
       "      <td>0.000000</td>\n",
       "      <td>4.263629</td>\n",
       "      <td>0.076761</td>\n",
       "      <td>Homer</td>\n",
       "    </tr>\n",
       "    <tr>\n",
       "      <th>291</th>\n",
       "      <td>0.0</td>\n",
       "      <td>0.0</td>\n",
       "      <td>0.0</td>\n",
       "      <td>0.000000</td>\n",
       "      <td>1.429134</td>\n",
       "      <td>0.017013</td>\n",
       "      <td>Homer</td>\n",
       "    </tr>\n",
       "    <tr>\n",
       "      <th>292</th>\n",
       "      <td>0.0</td>\n",
       "      <td>0.0</td>\n",
       "      <td>0.0</td>\n",
       "      <td>13.744248</td>\n",
       "      <td>0.853902</td>\n",
       "      <td>0.063546</td>\n",
       "      <td>Homer</td>\n",
       "    </tr>\n",
       "  </tbody>\n",
       "</table>\n",
       "</div>"
      ],
      "text/plain": [
       "     laranja_camisa_bart  azul_calcao_bart  azul_sapato_bart  \\\n",
       "288                  0.0               0.0               0.0   \n",
       "289                  0.0               0.0               0.0   \n",
       "290                  0.0               0.0               0.0   \n",
       "291                  0.0               0.0               0.0   \n",
       "292                  0.0               0.0               0.0   \n",
       "\n",
       "     marrom_boca_homer  azul_calca_homer  cinza_sapato_homer classe  \n",
       "288           0.000000          6.485412            0.093921  Homer  \n",
       "289           0.000000          0.000000            0.042194  Homer  \n",
       "290           0.000000          4.263629            0.076761  Homer  \n",
       "291           0.000000          1.429134            0.017013  Homer  \n",
       "292          13.744248          0.853902            0.063546  Homer  "
      ]
     },
     "execution_count": 46,
     "metadata": {},
     "output_type": "execute_result"
    }
   ],
   "source": [
    "dataset.tail()"
   ]
  },
  {
   "cell_type": "code",
   "execution_count": 47,
   "metadata": {
    "colab": {
     "base_uri": "https://localhost:8080/",
     "height": 296
    },
    "id": "AeuZ77E6278Y",
    "outputId": "baeb72a0-18bd-43e7-ec72-ca4aed976b90"
   },
   "outputs": [
    {
     "data": {
      "text/plain": [
       "<AxesSubplot:xlabel='classe', ylabel='count'>"
      ]
     },
     "execution_count": 47,
     "metadata": {},
     "output_type": "execute_result"
    },
    {
     "data": {
      "image/png": "[encoded data removed]",
      "text/plain": [
       "<Figure size 432x288 with 1 Axes>"
      ]
     },
     "metadata": {
      "needs_background": "light"
     },
     "output_type": "display_data"
    }
   ],
   "source": [
    "sns.countplot(x = 'classe', data=dataset)"
   ]
  },
  {
   "cell_type": "code",
   "execution_count": 48,
   "metadata": {
    "colab": {
     "base_uri": "https://localhost:8080/",
     "height": 382
    },
    "id": "FXCsZAFK3Ivb",
    "outputId": "e9bbc017-2e3b-4cdf-b51f-3096747cf6a2"
   },
   "outputs": [
    {
     "data": {
      "text/plain": [
       "<AxesSubplot:>"
      ]
     },
     "execution_count": 48,
     "metadata": {},
     "output_type": "execute_result"
    },
    {
     "data": {
      "image/png": "[encoded data removed]",
      "text/plain": [
       "<Figure size 432x288 with 2 Axes>"
      ]
     },
     "metadata": {
      "needs_background": "light"
     },
     "output_type": "display_data"
    }
   ],
   "source": [
    "sns.heatmap(dataset.corr(), annot=True)"
   ]
  },
  {
   "cell_type": "code",
   "execution_count": 49,
   "metadata": {
    "colab": {
     "base_uri": "https://localhost:8080/"
    },
    "id": "URFxdySuk3iI",
    "outputId": "b07e8139-8559-49b7-e52d-c07e057d3851"
   },
   "outputs": [
    {
     "data": {
      "text/plain": [
       "(293, 7)"
      ]
     },
     "execution_count": 49,
     "metadata": {},
     "output_type": "execute_result"
    }
   ],
   "source": [
    "dataset.shape"
   ]
  },
  {
   "cell_type": "code",
   "execution_count": 50,
   "metadata": {
    "colab": {
     "base_uri": "https://localhost:8080/"
    },
    "id": "p-UCO6M74F4a",
    "outputId": "fbad20ac-fd60-46fa-bbf3-6460bdf5ab1d"
   },
   "outputs": [
    {
     "data": {
      "text/plain": [
       "array([[ 6.886102  ,  3.4952044 ,  1.4849836 ,  0.        ,  0.        ,\n",
       "         0.06295441],\n",
       "       [ 5.004901  ,  3.1838887 ,  1.0001415 ,  0.        ,  0.        ,\n",
       "         0.03302354],\n",
       "       [ 5.2646203 ,  5.0296826 ,  0.283567  ,  0.        ,  0.        ,\n",
       "         0.15157256],\n",
       "       ...,\n",
       "       [ 0.        ,  0.        ,  0.        ,  0.        ,  4.2636285 ,\n",
       "         0.07676148],\n",
       "       [ 0.        ,  0.        ,  0.        ,  0.        ,  1.4291335 ,\n",
       "         0.01701349],\n",
       "       [ 0.        ,  0.        ,  0.        , 13.744248  ,  0.853902  ,\n",
       "         0.0635462 ]])"
      ]
     },
     "execution_count": 50,
     "metadata": {},
     "output_type": "execute_result"
    }
   ],
   "source": [
    "X = dataset.iloc[:, 0:6].values\n",
    "X"
   ]
  },
  {
   "cell_type": "code",
   "execution_count": 51,
   "metadata": {
    "colab": {
     "base_uri": "https://localhost:8080/"
    },
    "id": "AreJwWlZ4aOp",
    "outputId": "a7e305bd-e4bb-4c28-e94c-47f0f3abaf5e"
   },
   "outputs": [
    {
     "data": {
      "text/plain": [
       "array(['Bart', 'Bart', 'Bart', 'Bart', 'Bart', 'Bart', 'Bart', 'Bart',\n",
       "       'Bart', 'Bart', 'Bart', 'Bart', 'Bart', 'Bart', 'Bart', 'Bart',\n",
       "       'Bart', 'Bart', 'Bart', 'Bart', 'Bart', 'Bart', 'Bart', 'Bart',\n",
       "       'Bart', 'Bart', 'Bart', 'Bart', 'Bart', 'Bart', 'Bart', 'Bart',\n",
       "       'Bart', 'Bart', 'Bart', 'Bart', 'Bart', 'Bart', 'Bart', 'Bart',\n",
       "       'Bart', 'Bart', 'Bart', 'Bart', 'Bart', 'Bart', 'Bart', 'Bart',\n",
       "       'Bart', 'Bart', 'Bart', 'Bart', 'Bart', 'Bart', 'Bart', 'Bart',\n",
       "       'Bart', 'Bart', 'Bart', 'Bart', 'Bart', 'Bart', 'Bart', 'Bart',\n",
       "       'Bart', 'Bart', 'Bart', 'Bart', 'Bart', 'Bart', 'Bart', 'Bart',\n",
       "       'Bart', 'Bart', 'Bart', 'Bart', 'Bart', 'Bart', 'Bart', 'Bart',\n",
       "       'Bart', 'Bart', 'Bart', 'Bart', 'Bart', 'Bart', 'Bart', 'Bart',\n",
       "       'Bart', 'Bart', 'Bart', 'Bart', 'Bart', 'Bart', 'Bart', 'Bart',\n",
       "       'Bart', 'Bart', 'Bart', 'Bart', 'Bart', 'Bart', 'Bart', 'Bart',\n",
       "       'Bart', 'Bart', 'Bart', 'Bart', 'Bart', 'Bart', 'Bart', 'Bart',\n",
       "       'Bart', 'Bart', 'Bart', 'Bart', 'Bart', 'Bart', 'Bart', 'Bart',\n",
       "       'Bart', 'Bart', 'Bart', 'Bart', 'Bart', 'Bart', 'Bart', 'Bart',\n",
       "       'Bart', 'Bart', 'Bart', 'Bart', 'Bart', 'Bart', 'Bart', 'Bart',\n",
       "       'Bart', 'Bart', 'Bart', 'Bart', 'Bart', 'Bart', 'Bart', 'Bart',\n",
       "       'Bart', 'Bart', 'Bart', 'Bart', 'Bart', 'Bart', 'Bart', 'Bart',\n",
       "       'Bart', 'Bart', 'Bart', 'Bart', 'Bart', 'Bart', 'Bart', 'Bart',\n",
       "       'Bart', 'Bart', 'Bart', 'Bart', 'Bart', 'Bart', 'Bart', 'Bart',\n",
       "       'Bart', 'Homer', 'Homer', 'Homer', 'Homer', 'Homer', 'Homer',\n",
       "       'Homer', 'Homer', 'Homer', 'Homer', 'Homer', 'Homer', 'Homer',\n",
       "       'Homer', 'Homer', 'Homer', 'Homer', 'Homer', 'Homer', 'Homer',\n",
       "       'Homer', 'Homer', 'Homer', 'Homer', 'Homer', 'Homer', 'Homer',\n",
       "       'Homer', 'Homer', 'Homer', 'Homer', 'Homer', 'Homer', 'Homer',\n",
       "       'Homer', 'Homer', 'Homer', 'Homer', 'Homer', 'Homer', 'Homer',\n",
       "       'Homer', 'Homer', 'Homer', 'Homer', 'Homer', 'Homer', 'Homer',\n",
       "       'Homer', 'Homer', 'Homer', 'Homer', 'Homer', 'Homer', 'Homer',\n",
       "       'Homer', 'Homer', 'Homer', 'Homer', 'Homer', 'Homer', 'Homer',\n",
       "       'Homer', 'Homer', 'Homer', 'Homer', 'Homer', 'Homer', 'Homer',\n",
       "       'Homer', 'Homer', 'Homer', 'Homer', 'Homer', 'Homer', 'Homer',\n",
       "       'Homer', 'Homer', 'Homer', 'Homer', 'Homer', 'Homer', 'Homer',\n",
       "       'Homer', 'Homer', 'Homer', 'Homer', 'Homer', 'Homer', 'Homer',\n",
       "       'Homer', 'Homer', 'Homer', 'Homer', 'Homer', 'Homer', 'Homer',\n",
       "       'Homer', 'Homer', 'Homer', 'Homer', 'Homer', 'Homer', 'Homer',\n",
       "       'Homer', 'Homer', 'Homer', 'Homer', 'Homer', 'Homer', 'Homer',\n",
       "       'Homer', 'Homer', 'Homer', 'Homer', 'Homer', 'Homer', 'Homer',\n",
       "       'Homer', 'Homer', 'Homer', 'Homer', 'Homer', 'Homer'], dtype=object)"
      ]
     },
     "execution_count": 51,
     "metadata": {},
     "output_type": "execute_result"
    }
   ],
   "source": [
    "y = dataset.iloc[:, 6].values\n",
    "y"
   ]
  },
  {
   "cell_type": "code",
   "execution_count": 52,
   "metadata": {
    "colab": {
     "base_uri": "https://localhost:8080/"
    },
    "id": "IyoYARSd4rkT",
    "outputId": "edc86831-3226-46ca-9366-4b42b4e2bdc5"
   },
   "outputs": [
    {
     "data": {
      "text/plain": [
       "array([False, False, False, False, False, False, False, False, False,\n",
       "       False, False, False, False, False, False, False, False, False,\n",
       "       False, False, False, False, False, False, False, False, False,\n",
       "       False, False, False, False, False, False, False, False, False,\n",
       "       False, False, False, False, False, False, False, False, False,\n",
       "       False, False, False, False, False, False, False, False, False,\n",
       "       False, False, False, False, False, False, False, False, False,\n",
       "       False, False, False, False, False, False, False, False, False,\n",
       "       False, False, False, False, False, False, False, False, False,\n",
       "       False, False, False, False, False, False, False, False, False,\n",
       "       False, False, False, False, False, False, False, False, False,\n",
       "       False, False, False, False, False, False, False, False, False,\n",
       "       False, False, False, False, False, False, False, False, False,\n",
       "       False, False, False, False, False, False, False, False, False,\n",
       "       False, False, False, False, False, False, False, False, False,\n",
       "       False, False, False, False, False, False, False, False, False,\n",
       "       False, False, False, False, False, False, False, False, False,\n",
       "       False, False, False, False, False, False, False, False, False,\n",
       "       False, False, False, False, False, False, False,  True,  True,\n",
       "        True,  True,  True,  True,  True,  True,  True,  True,  True,\n",
       "        True,  True,  True,  True,  True,  True,  True,  True,  True,\n",
       "        True,  True,  True,  True,  True,  True,  True,  True,  True,\n",
       "        True,  True,  True,  True,  True,  True,  True,  True,  True,\n",
       "        True,  True,  True,  True,  True,  True,  True,  True,  True,\n",
       "        True,  True,  True,  True,  True,  True,  True,  True,  True,\n",
       "        True,  True,  True,  True,  True,  True,  True,  True,  True,\n",
       "        True,  True,  True,  True,  True,  True,  True,  True,  True,\n",
       "        True,  True,  True,  True,  True,  True,  True,  True,  True,\n",
       "        True,  True,  True,  True,  True,  True,  True,  True,  True,\n",
       "        True,  True,  True,  True,  True,  True,  True,  True,  True,\n",
       "        True,  True,  True,  True,  True,  True,  True,  True,  True,\n",
       "        True,  True,  True,  True,  True,  True,  True,  True,  True,\n",
       "        True,  True,  True,  True,  True])"
      ]
     },
     "execution_count": 52,
     "metadata": {},
     "output_type": "execute_result"
    }
   ],
   "source": [
    "y = (y == 'Homer')\n",
    "y\n",
    "#y1 = (y == 'Bart')\n",
    "#y1"
   ]
  },
  {
   "cell_type": "code",
   "execution_count": null,
   "metadata": {
    "colab": {
     "base_uri": "https://localhost:8080/"
    },
    "id": "WOogDk_VkEtA",
    "outputId": "f79cec7b-6e19-4219-d0de-789f5f263c9e"
   },
   "outputs": [],
   "source": [
    "#y2 = (y == 'Homer')\n",
    "#y2"
   ]
  },
  {
   "cell_type": "code",
   "execution_count": 53,
   "metadata": {
    "id": "qLJJ4b1O42Cu"
   },
   "outputs": [],
   "source": [
    "from sklearn.model_selection import train_test_split\n",
    "X_treinamento, X_teste, y_treinamento, y_teste = train_test_split(X, y, test_size = 0.2)"
   ]
  },
  {
   "cell_type": "code",
   "execution_count": 54,
   "metadata": {
    "colab": {
     "base_uri": "https://localhost:8080/"
    },
    "id": "R5C7cQXu5MtO",
    "outputId": "df10224a-e004-4de8-aa44-53002bc654b0"
   },
   "outputs": [
    {
     "data": {
      "text/plain": [
       "((234, 6), (234,))"
      ]
     },
     "execution_count": 54,
     "metadata": {},
     "output_type": "execute_result"
    }
   ],
   "source": [
    "X_treinamento.shape, y_treinamento.shape"
   ]
  },
  {
   "cell_type": "code",
   "execution_count": 55,
   "metadata": {
    "colab": {
     "base_uri": "https://localhost:8080/"
    },
    "id": "_q29-Iev5Ykc",
    "outputId": "c433602f-25da-4538-da39-c7e34dad1e73"
   },
   "outputs": [
    {
     "data": {
      "text/plain": [
       "((59, 6), (59,))"
      ]
     },
     "execution_count": 55,
     "metadata": {},
     "output_type": "execute_result"
    }
   ],
   "source": [
    "X_teste.shape, y_teste.shape"
   ]
  },
  {
   "cell_type": "markdown",
   "metadata": {
    "id": "tYrSmoKVvRD9"
   },
   "source": [
    "## Construção e treinamento da rede neural"
   ]
  },
  {
   "cell_type": "code",
   "execution_count": 56,
   "metadata": {
    "colab": {
     "base_uri": "https://localhost:8080/"
    },
    "id": "ZZgwri6S6RXS",
    "outputId": "07ac941f-e5f3-44ef-c5f6-dbabb06a2764"
   },
   "outputs": [
    {
     "data": {
      "text/plain": [
       "3.5"
      ]
     },
     "execution_count": 56,
     "metadata": {},
     "output_type": "execute_result"
    }
   ],
   "source": [
    "(6 + 1) / 2"
   ]
  },
  {
   "cell_type": "code",
   "execution_count": null,
   "metadata": {
    "id": "0w9cclV66Dc7"
   },
   "outputs": [],
   "source": [
    "# (entradas + saídas) / 2\n",
    "# 6 -> 4 -> 4 -> 4 -> 1"
   ]
  },
  {
   "cell_type": "code",
   "execution_count": 57,
   "metadata": {
    "id": "vTXmpyQT6gTa"
   },
   "outputs": [],
   "source": [
    "rede_neural = tf.keras.models.Sequential()\n",
    "rede_neural.add(tf.keras.layers.Dense(units=4, activation='relu', input_shape=(6,)))\n",
    "rede_neural.add(tf.keras.layers.Dense(units=4, activation='relu'))\n",
    "rede_neural.add(tf.keras.layers.Dense(units=4, activation='relu'))\n",
    "rede_neural.add(tf.keras.layers.Dense(units=1, activation='sigmoid'))"
   ]
  },
  {
   "cell_type": "code",
   "execution_count": 58,
   "metadata": {
    "colab": {
     "base_uri": "https://localhost:8080/"
    },
    "id": "CAJjmKJ77XCg",
    "outputId": "724feb57-c82e-4027-c40d-5d91343e1136"
   },
   "outputs": [
    {
     "name": "stdout",
     "output_type": "stream",
     "text": [
      "Model: \"sequential_1\"\n",
      "_________________________________________________________________\n",
      "Layer (type)                 Output Shape              Param #   \n",
      "=================================================================\n",
      "dense_4 (Dense)              (None, 4)                 28        \n",
      "_________________________________________________________________\n",
      "dense_5 (Dense)              (None, 4)                 20        \n",
      "_________________________________________________________________\n",
      "dense_6 (Dense)              (None, 4)                 20        \n",
      "_________________________________________________________________\n",
      "dense_7 (Dense)              (None, 1)                 5         \n",
      "=================================================================\n",
      "Total params: 73\n",
      "Trainable params: 73\n",
      "Non-trainable params: 0\n",
      "_________________________________________________________________\n"
     ]
    }
   ],
   "source": [
    "rede_neural.summary()"
   ]
  },
  {
   "cell_type": "code",
   "execution_count": 59,
   "metadata": {
    "id": "LEXtNCPf7ffI"
   },
   "outputs": [],
   "source": [
    "# Otimizador Adam\n",
    "rede_neural.compile(optimizer='Adam', loss='binary_crossentropy', metrics = ['accuracy'])\n",
    "\n",
    "# Otimizador SGD\n",
    "#rede_neural.compile(optimizer='sgd', loss='binary_crossentropy', metrics = ['accuracy'])"
   ]
  },
  {
   "cell_type": "code",
   "execution_count": null,
   "metadata": {
    "colab": {
     "base_uri": "https://localhost:8080/",
     "height": 163
    },
    "id": "rK7BObgPr4ff",
    "outputId": "a9fec8bf-feb3-46e1-8749-45792ed6e9ef"
   },
   "outputs": [],
   "source": [
    "#rede_neural.tf.strings.to_number(x, out_type=tf.float32)"
   ]
  },
  {
   "cell_type": "code",
   "execution_count": 60,
   "metadata": {
    "colab": {
     "base_uri": "https://localhost:8080/",
     "height": 1000
    },
    "id": "k4kcFjJ577OG",
    "outputId": "a075ed75-8aa3-402f-8a6c-5784ff6f2c97"
   },
   "outputs": [
    {
     "name": "stdout",
     "output_type": "stream",
     "text": [
      "Epoch 1/50\n",
      "7/7 [==============================] - 1s 58ms/step - loss: 0.9303 - accuracy: 0.4316 - val_loss: 0.8773 - val_accuracy: 0.3750\n",
      "Epoch 2/50\n",
      "7/7 [==============================] - 0s 18ms/step - loss: 0.8636 - accuracy: 0.4682 - val_loss: 0.8236 - val_accuracy: 0.4167\n",
      "Epoch 3/50\n",
      "7/7 [==============================] - 0s 14ms/step - loss: 0.8415 - accuracy: 0.4377 - val_loss: 0.7688 - val_accuracy: 0.4583\n",
      "Epoch 4/50\n",
      "7/7 [==============================] - 0s 17ms/step - loss: 0.7761 - accuracy: 0.4870 - val_loss: 0.7207 - val_accuracy: 0.5417\n",
      "Epoch 5/50\n",
      "7/7 [==============================] - 0s 13ms/step - loss: 0.7254 - accuracy: 0.5721 - val_loss: 0.6808 - val_accuracy: 0.6667\n",
      "Epoch 6/50\n",
      "7/7 [==============================] - 0s 16ms/step - loss: 0.7126 - accuracy: 0.6489 - val_loss: 0.6501 - val_accuracy: 0.7083\n",
      "Epoch 7/50\n",
      "7/7 [==============================] - 0s 15ms/step - loss: 0.6920 - accuracy: 0.6648 - val_loss: 0.6287 - val_accuracy: 0.7083\n",
      "Epoch 8/50\n",
      "7/7 [==============================] - 0s 13ms/step - loss: 0.6800 - accuracy: 0.6646 - val_loss: 0.6162 - val_accuracy: 0.6667\n",
      "Epoch 9/50\n",
      "7/7 [==============================] - 0s 17ms/step - loss: 0.6713 - accuracy: 0.6570 - val_loss: 0.6080 - val_accuracy: 0.6667\n",
      "Epoch 10/50\n",
      "7/7 [==============================] - 0s 15ms/step - loss: 0.6349 - accuracy: 0.7137 - val_loss: 0.6011 - val_accuracy: 0.7083\n",
      "Epoch 11/50\n",
      "7/7 [==============================] - 0s 15ms/step - loss: 0.6674 - accuracy: 0.6574 - val_loss: 0.5950 - val_accuracy: 0.7083\n",
      "Epoch 12/50\n",
      "7/7 [==============================] - 0s 13ms/step - loss: 0.6569 - accuracy: 0.6765 - val_loss: 0.5888 - val_accuracy: 0.7083\n",
      "Epoch 13/50\n",
      "7/7 [==============================] - 0s 16ms/step - loss: 0.6537 - accuracy: 0.6421 - val_loss: 0.5830 - val_accuracy: 0.7083\n",
      "Epoch 14/50\n",
      "7/7 [==============================] - 0s 13ms/step - loss: 0.6397 - accuracy: 0.6932 - val_loss: 0.5767 - val_accuracy: 0.7083\n",
      "Epoch 15/50\n",
      "7/7 [==============================] - 0s 13ms/step - loss: 0.6369 - accuracy: 0.6695 - val_loss: 0.5705 - val_accuracy: 0.7083\n",
      "Epoch 16/50\n",
      "7/7 [==============================] - 0s 13ms/step - loss: 0.6255 - accuracy: 0.6855 - val_loss: 0.5639 - val_accuracy: 0.7083\n",
      "Epoch 17/50\n",
      "7/7 [==============================] - 0s 12ms/step - loss: 0.6399 - accuracy: 0.6606 - val_loss: 0.5577 - val_accuracy: 0.7917\n",
      "Epoch 18/50\n",
      "7/7 [==============================] - 0s 19ms/step - loss: 0.6166 - accuracy: 0.6938 - val_loss: 0.5509 - val_accuracy: 0.7917\n",
      "Epoch 19/50\n",
      "7/7 [==============================] - 0s 21ms/step - loss: 0.6186 - accuracy: 0.6896 - val_loss: 0.5440 - val_accuracy: 0.7917\n",
      "Epoch 20/50\n",
      "7/7 [==============================] - 0s 14ms/step - loss: 0.5922 - accuracy: 0.7170 - val_loss: 0.5369 - val_accuracy: 0.7917\n",
      "Epoch 21/50\n",
      "7/7 [==============================] - 0s 13ms/step - loss: 0.6044 - accuracy: 0.6784 - val_loss: 0.5299 - val_accuracy: 0.8333\n",
      "Epoch 22/50\n",
      "7/7 [==============================] - 0s 13ms/step - loss: 0.5816 - accuracy: 0.7257 - val_loss: 0.5231 - val_accuracy: 0.8333\n",
      "Epoch 23/50\n",
      "7/7 [==============================] - 0s 12ms/step - loss: 0.5886 - accuracy: 0.7063 - val_loss: 0.5166 - val_accuracy: 0.8750\n",
      "Epoch 24/50\n",
      "7/7 [==============================] - 0s 13ms/step - loss: 0.5756 - accuracy: 0.7091 - val_loss: 0.5100 - val_accuracy: 0.8750\n",
      "Epoch 25/50\n",
      "7/7 [==============================] - 0s 13ms/step - loss: 0.5685 - accuracy: 0.7091 - val_loss: 0.5036 - val_accuracy: 0.8750\n",
      "Epoch 26/50\n",
      "7/7 [==============================] - 0s 15ms/step - loss: 0.5751 - accuracy: 0.7409 - val_loss: 0.4949 - val_accuracy: 0.8750\n",
      "Epoch 27/50\n",
      "7/7 [==============================] - 0s 13ms/step - loss: 0.5575 - accuracy: 0.7852 - val_loss: 0.4863 - val_accuracy: 0.8750\n",
      "Epoch 28/50\n",
      "7/7 [==============================] - 0s 16ms/step - loss: 0.5487 - accuracy: 0.7459 - val_loss: 0.4785 - val_accuracy: 0.8750\n",
      "Epoch 29/50\n",
      "7/7 [==============================] - 0s 26ms/step - loss: 0.5347 - accuracy: 0.7764 - val_loss: 0.4716 - val_accuracy: 0.8750\n",
      "Epoch 30/50\n",
      "7/7 [==============================] - 0s 22ms/step - loss: 0.5543 - accuracy: 0.7727 - val_loss: 0.4648 - val_accuracy: 0.9167\n",
      "Epoch 31/50\n",
      "7/7 [==============================] - 0s 16ms/step - loss: 0.5193 - accuracy: 0.7800 - val_loss: 0.4578 - val_accuracy: 0.9167\n",
      "Epoch 32/50\n",
      "7/7 [==============================] - 0s 17ms/step - loss: 0.5149 - accuracy: 0.7759 - val_loss: 0.4498 - val_accuracy: 0.9167\n",
      "Epoch 33/50\n",
      "7/7 [==============================] - 0s 15ms/step - loss: 0.5084 - accuracy: 0.7982 - val_loss: 0.4427 - val_accuracy: 0.9167\n",
      "Epoch 34/50\n",
      "7/7 [==============================] - 0s 14ms/step - loss: 0.5175 - accuracy: 0.7946 - val_loss: 0.4363 - val_accuracy: 0.9167\n",
      "Epoch 35/50\n",
      "7/7 [==============================] - 0s 15ms/step - loss: 0.5009 - accuracy: 0.8050 - val_loss: 0.4307 - val_accuracy: 0.9167\n",
      "Epoch 36/50\n",
      "7/7 [==============================] - 0s 15ms/step - loss: 0.4972 - accuracy: 0.7793 - val_loss: 0.4247 - val_accuracy: 0.9167\n",
      "Epoch 37/50\n",
      "7/7 [==============================] - 0s 11ms/step - loss: 0.4749 - accuracy: 0.8335 - val_loss: 0.4173 - val_accuracy: 0.9583\n",
      "Epoch 38/50\n",
      "7/7 [==============================] - 0s 14ms/step - loss: 0.4816 - accuracy: 0.8034 - val_loss: 0.4094 - val_accuracy: 0.9583\n",
      "Epoch 39/50\n",
      "7/7 [==============================] - 0s 17ms/step - loss: 0.4762 - accuracy: 0.8571 - val_loss: 0.4020 - val_accuracy: 0.9583\n",
      "Epoch 40/50\n",
      "7/7 [==============================] - 0s 25ms/step - loss: 0.4661 - accuracy: 0.8661 - val_loss: 0.3954 - val_accuracy: 0.9583\n",
      "Epoch 41/50\n",
      "7/7 [==============================] - 0s 14ms/step - loss: 0.4468 - accuracy: 0.8819 - val_loss: 0.3889 - val_accuracy: 1.0000\n",
      "Epoch 42/50\n",
      "7/7 [==============================] - 0s 14ms/step - loss: 0.4559 - accuracy: 0.9029 - val_loss: 0.3824 - val_accuracy: 1.0000\n",
      "Epoch 43/50\n",
      "7/7 [==============================] - 0s 13ms/step - loss: 0.4288 - accuracy: 0.9168 - val_loss: 0.3757 - val_accuracy: 1.0000\n",
      "Epoch 44/50\n",
      "7/7 [==============================] - 0s 14ms/step - loss: 0.4539 - accuracy: 0.8878 - val_loss: 0.3680 - val_accuracy: 1.0000\n",
      "Epoch 45/50\n",
      "7/7 [==============================] - 0s 17ms/step - loss: 0.4293 - accuracy: 0.8788 - val_loss: 0.3592 - val_accuracy: 1.0000\n",
      "Epoch 46/50\n",
      "7/7 [==============================] - 0s 24ms/step - loss: 0.4272 - accuracy: 0.9021 - val_loss: 0.3512 - val_accuracy: 1.0000\n",
      "Epoch 47/50\n",
      "7/7 [==============================] - 0s 17ms/step - loss: 0.4003 - accuracy: 0.9099 - val_loss: 0.3448 - val_accuracy: 1.0000\n",
      "Epoch 48/50\n",
      "7/7 [==============================] - 0s 15ms/step - loss: 0.4161 - accuracy: 0.8925 - val_loss: 0.3379 - val_accuracy: 0.9583\n",
      "Epoch 49/50\n",
      "7/7 [==============================] - 0s 18ms/step - loss: 0.4190 - accuracy: 0.8674 - val_loss: 0.3314 - val_accuracy: 0.9583\n",
      "Epoch 50/50\n",
      "7/7 [==============================] - 0s 12ms/step - loss: 0.3983 - accuracy: 0.8940 - val_loss: 0.3261 - val_accuracy: 0.9583\n"
     ]
    }
   ],
   "source": [
    "#model.fit(X_train, y_train, nb_epoch=3, batch_size=16, verbose=1)\n",
    "#historico = rede_neural.fit(X_treinamento, y_treinamento, epochs=50, validation_split=0.1)\n",
    "\n",
    "historico = rede_neural.fit(X_treinamento, y_treinamento, epochs=50, validation_split=0.1)"
   ]
  },
  {
   "cell_type": "markdown",
   "metadata": {
    "id": "P-qMzGAQwZVM"
   },
   "source": [
    "## Avaliação da rede neural"
   ]
  },
  {
   "cell_type": "code",
   "execution_count": 61,
   "metadata": {
    "id": "E5ffRZGK9Q6I"
   },
   "outputs": [
    {
     "data": {
      "text/plain": [
       "dict_keys(['loss', 'accuracy', 'val_loss', 'val_accuracy'])"
      ]
     },
     "execution_count": 61,
     "metadata": {},
     "output_type": "execute_result"
    }
   ],
   "source": [
    "historico.history.keys()"
   ]
  },
  {
   "cell_type": "code",
   "execution_count": 62,
   "metadata": {
    "id": "kK_H5gDi9Xm9"
   },
   "outputs": [
    {
     "data": {
      "text/plain": [
       "[<matplotlib.lines.Line2D at 0x7f382b2f9dc0>]"
      ]
     },
     "execution_count": 62,
     "metadata": {},
     "output_type": "execute_result"
    },
    {
     "data": {
      "image/png": "[encoded data removed]",
      "text/plain": [
       "<Figure size 432x288 with 1 Axes>"
      ]
     },
     "metadata": {
      "needs_background": "light"
     },
     "output_type": "display_data"
    }
   ],
   "source": [
    "plt.plot(historico.history['val_loss'])"
   ]
  },
  {
   "cell_type": "code",
   "execution_count": 63,
   "metadata": {
    "id": "6l6rGgUc9n2L"
   },
   "outputs": [
    {
     "data": {
      "text/plain": [
       "[<matplotlib.lines.Line2D at 0x7f382b251d00>]"
      ]
     },
     "execution_count": 63,
     "metadata": {},
     "output_type": "execute_result"
    },
    {
     "data": {
      "image/png": "[encoded data removed]",
      "text/plain": [
       "<Figure size 432x288 with 1 Axes>"
      ]
     },
     "metadata": {
      "needs_background": "light"
     },
     "output_type": "display_data"
    }
   ],
   "source": [
    "plt.plot(historico.history['val_accuracy'])"
   ]
  },
  {
   "cell_type": "code",
   "execution_count": 64,
   "metadata": {
    "id": "yT0imr8W9yBa"
   },
   "outputs": [
    {
     "data": {
      "text/plain": [
       "array([[0.5602572 ],\n",
       "       [0.44376096],\n",
       "       [0.3419051 ],\n",
       "       [0.37273473],\n",
       "       [0.34894705],\n",
       "       [0.44466406],\n",
       "       [0.62771624],\n",
       "       [0.9997852 ],\n",
       "       [0.6289923 ],\n",
       "       [0.5037522 ],\n",
       "       [0.37273473],\n",
       "       [0.34837013],\n",
       "       [0.3637439 ],\n",
       "       [0.37273473],\n",
       "       [0.9530039 ],\n",
       "       [1.        ],\n",
       "       [0.37273473],\n",
       "       [0.87352395],\n",
       "       [0.35028583],\n",
       "       [0.3504573 ],\n",
       "       [0.37273473],\n",
       "       [0.4516712 ],\n",
       "       [0.98885417],\n",
       "       [0.8412203 ],\n",
       "       [0.4488308 ],\n",
       "       [0.4840908 ],\n",
       "       [0.36056328],\n",
       "       [0.44318262],\n",
       "       [0.44367933],\n",
       "       [0.9999585 ],\n",
       "       [0.34622514],\n",
       "       [0.37273473],\n",
       "       [0.3549002 ],\n",
       "       [0.3535183 ],\n",
       "       [0.44574308],\n",
       "       [0.37273473],\n",
       "       [0.37273473],\n",
       "       [0.3497264 ],\n",
       "       [0.37273473],\n",
       "       [0.35235023],\n",
       "       [0.37273473],\n",
       "       [0.9960116 ],\n",
       "       [0.44398838],\n",
       "       [0.44812644],\n",
       "       [0.9999954 ],\n",
       "       [0.37273473],\n",
       "       [0.35277906],\n",
       "       [0.96063274],\n",
       "       [0.33927786],\n",
       "       [0.99997467],\n",
       "       [0.86836135],\n",
       "       [0.4570134 ],\n",
       "       [0.9999622 ],\n",
       "       [0.37273473],\n",
       "       [0.37273473],\n",
       "       [0.37273473],\n",
       "       [0.36866397],\n",
       "       [0.44197065],\n",
       "       [0.44270006]], dtype=float32)"
      ]
     },
     "execution_count": 64,
     "metadata": {},
     "output_type": "execute_result"
    }
   ],
   "source": [
    "previsoes = rede_neural.predict(X_teste)\n",
    "previsoes"
   ]
  },
  {
   "cell_type": "code",
   "execution_count": null,
   "metadata": {
    "id": "--kBZHRt-Si9"
   },
   "outputs": [],
   "source": [
    "# 1 True - Bart\n",
    "# 0 False - Homer"
   ]
  },
  {
   "cell_type": "code",
   "execution_count": 65,
   "metadata": {
    "id": "XZj9imeG-cyy"
   },
   "outputs": [
    {
     "data": {
      "text/plain": [
       "array([[ True],\n",
       "       [False],\n",
       "       [False],\n",
       "       [False],\n",
       "       [False],\n",
       "       [False],\n",
       "       [ True],\n",
       "       [ True],\n",
       "       [ True],\n",
       "       [ True],\n",
       "       [False],\n",
       "       [False],\n",
       "       [False],\n",
       "       [False],\n",
       "       [ True],\n",
       "       [ True],\n",
       "       [False],\n",
       "       [ True],\n",
       "       [False],\n",
       "       [False],\n",
       "       [False],\n",
       "       [False],\n",
       "       [ True],\n",
       "       [ True],\n",
       "       [False],\n",
       "       [False],\n",
       "       [False],\n",
       "       [False],\n",
       "       [False],\n",
       "       [ True],\n",
       "       [False],\n",
       "       [False],\n",
       "       [False],\n",
       "       [False],\n",
       "       [False],\n",
       "       [False],\n",
       "       [False],\n",
       "       [False],\n",
       "       [False],\n",
       "       [False],\n",
       "       [False],\n",
       "       [ True],\n",
       "       [False],\n",
       "       [False],\n",
       "       [ True],\n",
       "       [False],\n",
       "       [False],\n",
       "       [ True],\n",
       "       [False],\n",
       "       [ True],\n",
       "       [ True],\n",
       "       [False],\n",
       "       [ True],\n",
       "       [False],\n",
       "       [False],\n",
       "       [False],\n",
       "       [False],\n",
       "       [False],\n",
       "       [False]])"
      ]
     },
     "execution_count": 65,
     "metadata": {},
     "output_type": "execute_result"
    }
   ],
   "source": [
    "previsoes = (previsoes > 0.5)\n",
    "previsoes"
   ]
  },
  {
   "cell_type": "code",
   "execution_count": 66,
   "metadata": {
    "id": "_ELq2pJ6-xKL"
   },
   "outputs": [
    {
     "data": {
      "text/plain": [
       "array([ True, False, False, False, False, False,  True,  True,  True,\n",
       "        True, False, False, False, False,  True,  True, False,  True,\n",
       "       False, False, False, False,  True,  True, False,  True, False,\n",
       "       False, False,  True, False, False, False, False, False, False,\n",
       "       False, False, False, False, False,  True,  True, False,  True,\n",
       "       False, False,  True, False,  True,  True,  True,  True, False,\n",
       "       False, False, False,  True, False])"
      ]
     },
     "execution_count": 66,
     "metadata": {},
     "output_type": "execute_result"
    }
   ],
   "source": [
    "y_teste"
   ]
  },
  {
   "cell_type": "code",
   "execution_count": 67,
   "metadata": {
    "id": "tDT4-v0b-_qJ"
   },
   "outputs": [
    {
     "data": {
      "text/plain": [
       "0.9322033898305084"
      ]
     },
     "execution_count": 67,
     "metadata": {},
     "output_type": "execute_result"
    }
   ],
   "source": [
    "from sklearn.metrics import accuracy_score\n",
    "accuracy_score(previsoes, y_teste)"
   ]
  },
  {
   "cell_type": "code",
   "execution_count": 68,
   "metadata": {
    "id": "003Bc2Rh_Izf"
   },
   "outputs": [
    {
     "data": {
      "text/plain": [
       "array([[38,  0],\n",
       "       [ 4, 17]])"
      ]
     },
     "execution_count": 68,
     "metadata": {},
     "output_type": "execute_result"
    }
   ],
   "source": [
    "from sklearn.metrics import confusion_matrix\n",
    "cm = confusion_matrix(y_teste, previsoes)\n",
    "cm"
   ]
  },
  {
   "cell_type": "code",
   "execution_count": 69,
   "metadata": {
    "id": "2XRRlMmY_RQ1"
   },
   "outputs": [
    {
     "data": {
      "text/plain": [
       "<AxesSubplot:>"
      ]
     },
     "execution_count": 69,
     "metadata": {},
     "output_type": "execute_result"
    },
    {
     "data": {
      "image/png": "[encoded data removed]",
      "text/plain": [
       "<Figure size 432x288 with 2 Axes>"
      ]
     },
     "metadata": {
      "needs_background": "light"
     },
     "output_type": "display_data"
    }
   ],
   "source": [
    "sns.heatmap(cm, annot=True)"
   ]
  }
 ],
 "metadata": {
  "colab": {
   "include_colab_link": true,
   "name": "Cópia de Rede Neural TensorFlow Personagens.ipynb",
   "provenance": []
  },
  "kernelspec": {
   "display_name": "Python 3 (ipykernel)",
   "language": "python",
   "name": "python3"
  },
  "language_info": {
   "codemirror_mode": {
    "name": "ipython",
    "version": 3
   },
   "file_extension": ".py",
   "mimetype": "text/x-python",
   "name": "python",
   "nbconvert_exporter": "python",
   "pygments_lexer": "ipython3",
   "version": "3.8.8"
  }
 },
 "nbformat": 4,
 "nbformat_minor": 4
}
