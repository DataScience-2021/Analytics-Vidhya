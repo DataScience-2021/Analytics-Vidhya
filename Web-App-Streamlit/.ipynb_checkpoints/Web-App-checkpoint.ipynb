{
 "cells": [
  {
   "cell_type": "markdown",
   "id": "9d8c37f0-1336-4b44-a80f-285c36d8900d",
   "metadata": {},
   "source": [
    "# Web Application with Streamlit\n",
    "## Financial Market Dashboard\n",
    "## Countries USA,  Brazi & India"
   ]
  },
  {
   "cell_type": "code",
   "execution_count": 2,
   "id": "9224af3b-a66e-4f96-9828-e161d51bb95f",
   "metadata": {},
   "outputs": [
    {
     "name": "stdout",
     "output_type": "stream",
     "text": [
      "Collecting investpy\n",
      "  Downloading investpy-1.0.7.tar.gz (4.4 MB)\n",
      "\u001b[K     |████████████████████████████████| 4.4 MB 3.2 MB/s eta 0:00:01\n",
      "\u001b[?25hRequirement already satisfied: Unidecode>=1.1.1 in /home/biolabs/anaconda3/lib/python3.8/site-packages (from investpy) (1.2.0)\n",
      "Requirement already satisfied: setuptools>=41.2.0 in /home/biolabs/anaconda3/lib/python3.8/site-packages (from investpy) (58.0.4)\n",
      "Requirement already satisfied: numpy>=1.17.2 in /home/biolabs/anaconda3/lib/python3.8/site-packages (from investpy) (1.20.3)\n",
      "Requirement already satisfied: pandas>=0.25.1 in /home/biolabs/.local/lib/python3.8/site-packages (from investpy) (1.3.4)\n",
      "Collecting lxml>=4.4.1\n",
      "  Downloading lxml-4.6.4-cp38-cp38-manylinux_2_17_x86_64.manylinux2014_x86_64.manylinux_2_24_x86_64.whl (6.9 MB)\n",
      "\u001b[K     |████████████████████████████████| 6.9 MB 2.2 MB/s eta 0:00:01\n",
      "\u001b[?25hRequirement already satisfied: requests>=2.22.0 in /home/biolabs/anaconda3/lib/python3.8/site-packages (from investpy) (2.26.0)\n",
      "Requirement already satisfied: pytz>=2019.3 in /home/biolabs/anaconda3/lib/python3.8/site-packages (from investpy) (2021.3)\n",
      "Requirement already satisfied: python-dateutil>=2.7.3 in /home/biolabs/anaconda3/lib/python3.8/site-packages (from pandas>=0.25.1->investpy) (2.8.2)\n",
      "Requirement already satisfied: six>=1.5 in /home/biolabs/anaconda3/lib/python3.8/site-packages (from python-dateutil>=2.7.3->pandas>=0.25.1->investpy) (1.16.0)\n",
      "Requirement already satisfied: idna<4,>=2.5 in /home/biolabs/anaconda3/lib/python3.8/site-packages (from requests>=2.22.0->investpy) (2.10)\n",
      "Requirement already satisfied: urllib3<1.27,>=1.21.1 in /home/biolabs/anaconda3/lib/python3.8/site-packages (from requests>=2.22.0->investpy) (1.26.7)\n",
      "Requirement already satisfied: charset-normalizer~=2.0.0 in /home/biolabs/anaconda3/lib/python3.8/site-packages (from requests>=2.22.0->investpy) (2.0.4)\n",
      "Requirement already satisfied: certifi>=2017.4.17 in /home/biolabs/anaconda3/lib/python3.8/site-packages (from requests>=2.22.0->investpy) (2021.10.8)\n",
      "Building wheels for collected packages: investpy\n",
      "  Building wheel for investpy (setup.py) ... \u001b[?25ldone\n",
      "\u001b[?25h  Created wheel for investpy: filename=investpy-1.0.7-py3-none-any.whl size=4495221 sha256=f0d3edb3b60acf5a71cc40a7690b8d5896dbfbb43027eb246dff4249f49e3273\n",
      "  Stored in directory: /home/biolabs/.cache/pip/wheels/75/2b/57/45c6babd0824ed333bc00bdf347454ead77906e83e2a1da0d5\n",
      "Successfully built investpy\n",
      "Installing collected packages: lxml, investpy\n",
      "\u001b[31mERROR: pip's dependency resolver does not currently take into account all the packages that are installed. This behaviour is the source of the following dependency conflicts.\n",
      "orange3-timeseries 0.3.12 requires more-itertools, which is not installed.\n",
      "orange3-timeseries 0.3.12 requires statsmodels<0.13.0,>=0.10.0, which is not installed.\u001b[0m\n",
      "Successfully installed investpy-1.0.7 lxml-4.6.4\n"
     ]
    }
   ],
   "source": [
    "!pip install investpy"
   ]
  },
  {
   "cell_type": "code",
   "execution_count": 3,
   "id": "a7c69e6d-1f3c-4930-b5ac-4d8aa008ac45",
   "metadata": {},
   "outputs": [],
   "source": [
    "import investpy as ip"
   ]
  },
  {
   "cell_type": "code",
   "execution_count": 7,
   "id": "12922986-251b-4ce1-bb9c-cae2d90d93eb",
   "metadata": {},
   "outputs": [],
   "source": [
    "import pandas as pd"
   ]
  },
  {
   "cell_type": "markdown",
   "id": "339caef9-034d-48ee-8515-3d5ff83b33b6",
   "metadata": {},
   "source": [
    "### Get Financial Assets"
   ]
  },
  {
   "cell_type": "code",
   "execution_count": 13,
   "id": "803ed8f8-22e4-41b3-bc84-b577ad1d0adc",
   "metadata": {},
   "outputs": [],
   "source": [
    "countries = ['brazil', 'united states']\n",
    "acoes_br = ip.get_stocks_list(country='brazil')\n",
    "acoes_us = ip.get_stocks_list(country='united states')\n",
    "acoes_in = ip.get_stocks_list(country='india')\n"
   ]
  },
  {
   "cell_type": "code",
   "execution_count": 16,
   "id": "3a29d1ab-18ca-4fd9-b86d-0934881b0d4a",
   "metadata": {},
   "outputs": [],
   "source": [
    "#acoes_us\n",
    "#acoes_br\n",
    "#acoes_in"
   ]
  },
  {
   "cell_type": "markdown",
   "id": "34ffab11-4aa5-4431-a8b6-0e054d06712a",
   "metadata": {},
   "source": [
    "## Stocks Query"
   ]
  },
  {
   "cell_type": "code",
   "execution_count": 17,
   "id": "59381127-897c-41a4-bb0f-b7d2af803af1",
   "metadata": {},
   "outputs": [],
   "source": [
    "from datetime import datetime, timedelta"
   ]
  },
  {
   "cell_type": "code",
   "execution_count": 18,
   "id": "42e422a0-d0b4-4bbc-b7b5-0c7e56b3a749",
   "metadata": {},
   "outputs": [],
   "source": [
    "dt_start = datetime.today() - timedelta(days=30)\n",
    "dt_end = datetime.today()"
   ]
  },
  {
   "cell_type": "code",
   "execution_count": 22,
   "id": "04e07e6d-8bfd-4270-8a0f-399acc0af94e",
   "metadata": {},
   "outputs": [],
   "source": [
    "def format_date(dt, format='%d/%m/%Y'):\n",
    "    return dt.strftime(format)"
   ]
  },
  {
   "cell_type": "code",
   "execution_count": 23,
   "id": "3f0ecfc3-7930-4f87-9eff-ad7b673d141a",
   "metadata": {},
   "outputs": [
    {
     "data": {
      "text/plain": [
       "'29/10/2021'"
      ]
     },
     "execution_count": 23,
     "metadata": {},
     "output_type": "execute_result"
    }
   ],
   "source": [
    "format_date(dt_start)"
   ]
  },
  {
   "cell_type": "code",
   "execution_count": 27,
   "id": "7b1e06d3-f385-4853-a2bd-b9316f755884",
   "metadata": {},
   "outputs": [
    {
     "data": {
      "text/plain": [
       "datetime.datetime(2021, 10, 29, 8, 27, 15, 76138)"
      ]
     },
     "execution_count": 27,
     "metadata": {},
     "output_type": "execute_result"
    }
   ],
   "source": [
    "dt_start"
   ]
  },
  {
   "cell_type": "code",
   "execution_count": 25,
   "id": "928c6516-5a1e-4651-b53b-0033ee6c3095",
   "metadata": {},
   "outputs": [],
   "source": [
    "intervals = ['Daily', 'Weekly', 'Monthly']\n",
    "df = ip.get_stock_historical_data(stock='ENGI4',\n",
    "                                  country='Brazil',\n",
    "                                  from_date=format_date(dt_start),\n",
    "                                  to_date=format_date(dt_end),\n",
    "                                  interval='Daily')"
   ]
  },
  {
   "cell_type": "code",
   "execution_count": 30,
   "id": "abf3afdd-cce3-4718-9cba-bee8a6c9c074",
   "metadata": {},
   "outputs": [
    {
     "data": {
      "text/html": [
       "<div>\n",
       "<style scoped>\n",
       "    .dataframe tbody tr th:only-of-type {\n",
       "        vertical-align: middle;\n",
       "    }\n",
       "\n",
       "    .dataframe tbody tr th {\n",
       "        vertical-align: top;\n",
       "    }\n",
       "\n",
       "    .dataframe thead th {\n",
       "        text-align: right;\n",
       "    }\n",
       "</style>\n",
       "<table border=\"1\" class=\"dataframe\">\n",
       "  <thead>\n",
       "    <tr style=\"text-align: right;\">\n",
       "      <th></th>\n",
       "      <th>count</th>\n",
       "      <th>mean</th>\n",
       "      <th>std</th>\n",
       "      <th>min</th>\n",
       "      <th>25%</th>\n",
       "      <th>50%</th>\n",
       "      <th>75%</th>\n",
       "      <th>max</th>\n",
       "    </tr>\n",
       "  </thead>\n",
       "  <tbody>\n",
       "    <tr>\n",
       "      <th>Open</th>\n",
       "      <td>19.0</td>\n",
       "      <td>6.777368</td>\n",
       "      <td>0.221782</td>\n",
       "      <td>6.39</td>\n",
       "      <td>6.575</td>\n",
       "      <td>6.87</td>\n",
       "      <td>6.915</td>\n",
       "      <td>7.17</td>\n",
       "    </tr>\n",
       "    <tr>\n",
       "      <th>High</th>\n",
       "      <td>19.0</td>\n",
       "      <td>6.927368</td>\n",
       "      <td>0.217456</td>\n",
       "      <td>6.57</td>\n",
       "      <td>6.715</td>\n",
       "      <td>6.98</td>\n",
       "      <td>7.095</td>\n",
       "      <td>7.30</td>\n",
       "    </tr>\n",
       "    <tr>\n",
       "      <th>Low</th>\n",
       "      <td>19.0</td>\n",
       "      <td>6.704737</td>\n",
       "      <td>0.231813</td>\n",
       "      <td>6.33</td>\n",
       "      <td>6.495</td>\n",
       "      <td>6.76</td>\n",
       "      <td>6.870</td>\n",
       "      <td>7.08</td>\n",
       "    </tr>\n",
       "    <tr>\n",
       "      <th>Close</th>\n",
       "      <td>19.0</td>\n",
       "      <td>6.815263</td>\n",
       "      <td>0.226578</td>\n",
       "      <td>6.43</td>\n",
       "      <td>6.650</td>\n",
       "      <td>6.85</td>\n",
       "      <td>6.945</td>\n",
       "      <td>7.23</td>\n",
       "    </tr>\n",
       "    <tr>\n",
       "      <th>Volume</th>\n",
       "      <td>19.0</td>\n",
       "      <td>21094.736842</td>\n",
       "      <td>11610.410735</td>\n",
       "      <td>4900.00</td>\n",
       "      <td>12650.000</td>\n",
       "      <td>18600.00</td>\n",
       "      <td>28600.000</td>\n",
       "      <td>49700.00</td>\n",
       "    </tr>\n",
       "  </tbody>\n",
       "</table>\n",
       "</div>"
      ],
      "text/plain": [
       "        count          mean           std      min        25%       50%  \\\n",
       "Open     19.0      6.777368      0.221782     6.39      6.575      6.87   \n",
       "High     19.0      6.927368      0.217456     6.57      6.715      6.98   \n",
       "Low      19.0      6.704737      0.231813     6.33      6.495      6.76   \n",
       "Close    19.0      6.815263      0.226578     6.43      6.650      6.85   \n",
       "Volume   19.0  21094.736842  11610.410735  4900.00  12650.000  18600.00   \n",
       "\n",
       "              75%       max  \n",
       "Open        6.915      7.17  \n",
       "High        7.095      7.30  \n",
       "Low         6.870      7.08  \n",
       "Close       6.945      7.23  \n",
       "Volume  28600.000  49700.00  "
      ]
     },
     "execution_count": 30,
     "metadata": {},
     "output_type": "execute_result"
    }
   ],
   "source": [
    "df.describe().T"
   ]
  },
  {
   "cell_type": "markdown",
   "id": "2dea39dc-f3f6-4839-9703-a80c6f5e75cb",
   "metadata": {},
   "source": [
    "## Plot CandleStick"
   ]
  },
  {
   "cell_type": "code",
   "execution_count": 26,
   "id": "daa58e51-f0af-4063-9b92-d3140bd78ab9",
   "metadata": {},
   "outputs": [],
   "source": [
    "import plotly.graph_objs as go"
   ]
  },
  {
   "cell_type": "code",
   "execution_count": 32,
   "id": "2d289543-2905-4faf-88f0-87cf5ffe6a84",
   "metadata": {},
   "outputs": [],
   "source": [
    "def plotCandleStick(df, acao='ticket'):\n",
    "    tracel = {\n",
    "        'x': df.index,\n",
    "        'open': df.Open,\n",
    "        'close': df.Close,\n",
    "        'high': df.High,\n",
    "        'low':df.Low,\n",
    "        'type': 'candlestick',\n",
    "        'name': acao,\n",
    "        'snowlegend': False\n",
    "    }\n",
    "    \n",
    "    data = [tracel]\n",
    "    layout = go.layout()\n",
    "    fig = go.Figure(data=data, layout=layout)\n",
    "    return fig\n",
    "        "
   ]
  },
  {
   "cell_type": "code",
   "execution_count": null,
   "id": "c85e7e76-cdfa-421b-96cc-02e532998b9e",
   "metadata": {},
   "outputs": [],
   "source": []
  }
 ],
 "metadata": {
  "kernelspec": {
   "display_name": "Python 3 (ipykernel)",
   "language": "python",
   "name": "python3"
  },
  "language_info": {
   "codemirror_mode": {
    "name": "ipython",
    "version": 3
   },
   "file_extension": ".py",
   "mimetype": "text/x-python",
   "name": "python",
   "nbconvert_exporter": "python",
   "pygments_lexer": "ipython3",
   "version": "3.8.8"
  }
 },
 "nbformat": 4,
 "nbformat_minor": 5
}
